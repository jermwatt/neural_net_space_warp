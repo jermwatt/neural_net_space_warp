{
 "cells": [
  {
   "cell_type": "markdown",
   "metadata": {},
   "source": [
    "# Playing around with popular nonlinear classification algorithms"
   ]
  },
  {
   "cell_type": "markdown",
   "metadata": {},
   "source": [
    "In the next Python cell we load in several necessary libraries."
   ]
  },
  {
   "cell_type": "code",
   "execution_count": 97,
   "metadata": {
    "collapsed": false
   },
   "outputs": [],
   "source": [
    "%matplotlib inline\n",
    "import matplotlib.pyplot as plt\n",
    "import numpy as np\n",
    "import pandas as pd\n",
    "from ipywidgets import interact\n",
    "from ipywidgets import widgets\n",
    "import time\n",
    "from IPython import display\n",
    "import math\n",
    "import tensorflow.contrib.learn.python.learn as learn\n",
    "from sklearn import datasets, metrics\n",
    "import math\n",
    "import pickle\n",
    "from sklearn.neural_network import MLPClassifier\n",
    "\n",
    "# a general purpose function for running and plotting the result of a user-defined input classification algorithm\n",
    "class show_net_transform():\n",
    "    ###### initialization and operation testing functions ######\n",
    "    def __init__(self):\n",
    "        # set number of slides for linear / nonlinear transformation\n",
    "        self.lin_trans_pts = 100\n",
    "        self.nonlin_trans_pts = 200\n",
    "        \n",
    "        # setup alphas \n",
    "        self.alphas = np.zeros((self.lin_trans_pts + self.nonlin_trans_pts,))\n",
    "        for i in range(self.lin_trans_pts):\n",
    "            self.alphas[i] = 1\n",
    "        self.alphas[self.lin_trans_pts:self.lin_trans_pts+self.lin_trans_pts] = np.linspace(0,0.9,self.lin_trans_pts)\n",
    "        self.alphas[self.lin_trans_pts+self.lin_trans_pts:] = np.linspace(0.9,1,self.nonlin_trans_pts - self.lin_trans_pts)\n",
    "        \n",
    "        # setup range for net weights\n",
    "        weights = pickle.load( open( \"files/net_weights.p\", \"rb\" ) )\n",
    "        self.biases = weights[0]\n",
    "        self.coeffs = weights[1]\n",
    "        \n",
    "        self.b1_range = 0\n",
    "        self.b2_range = 0\n",
    "        self.coeffs1_range = 0\n",
    "        self.coeffs2_range = 0\n",
    "        \n",
    "        # make range of coefficients for slider\n",
    "        self.make_coeff_range()\n",
    "        \n",
    "        # load in rule\n",
    "        self.rule = np.asarray(pd.read_csv('files/nonlinear_rule.csv',header = None))\n",
    "\n",
    "        # data variables\n",
    "        data = np.asarray(pd.read_csv('files/test_data.csv',header = None))\n",
    "        self.X = data[:,0:2]\n",
    "        self.y = data[:,2]\n",
    "        \n",
    "        # load in adjustable grid\n",
    "        self.adj_grid = np.asarray(pd.read_csv('files/adjustable_grid.csv',header = None))\n",
    "    \n",
    "    # get final parameters of trained net\n",
    "    def make_coeff_range(self):\n",
    "        # load in weights from trained net\n",
    "        test_coeffs = self.coeffs\n",
    "        test_bias = self.biases\n",
    "\n",
    "        bias1 = test_bias[0][0]\n",
    "        bias2 = test_bias[0][1]\n",
    "\n",
    "        coeffs1 = np.asarray([test_coeffs[0][0][0],test_coeffs[0][1][0]])\n",
    "        coeffs1.shape = (2,1)\n",
    "\n",
    "        coeffs2 = np.asarray([test_coeffs[0][0][1],test_coeffs[0][1][1]])\n",
    "        coeffs2.shape = (2,1)\n",
    "        \n",
    "        ## make range of values leading up to net weights for transition\n",
    "        # for both biases\n",
    "        a = np.linspace(0,bias1,self.lin_trans_pts)\n",
    "        a.shape = (len(a),1)\n",
    "        b = bias1*np.ones((self.nonlin_trans_pts,1))\n",
    "        self.b1_range = np.concatenate((a,b),axis = 0)\n",
    "        \n",
    "        a = np.linspace(0,bias2,self.lin_trans_pts)\n",
    "        a.shape = (len(a),1)\n",
    "        b = bias2*np.ones((self.nonlin_trans_pts,1))\n",
    "        self.b2_range = np.concatenate((a,b),axis = 0)\n",
    "\n",
    "        # for coeffs1\n",
    "        a = np.linspace(1,coeffs1[0],self.lin_trans_pts)\n",
    "        a.shape = (len(a),1)\n",
    "        b = np.linspace(0,coeffs1[1],self.lin_trans_pts)\n",
    "        b.shape = (len(b),1)\n",
    "        c = np.concatenate((a,b),axis = 1)\n",
    "        d = a[-1]*np.ones((self.nonlin_trans_pts,1))\n",
    "        e = b[-1]*np.ones((self.nonlin_trans_pts,1))\n",
    "        f = np.concatenate((d,e),axis = 1)\n",
    "        self.coeffs1_range = np.concatenate((c,f),axis = 0)\n",
    "        \n",
    "        # for coeffs2\n",
    "        a = np.linspace(0,coeffs2[0],self.lin_trans_pts)\n",
    "        a.shape = (len(a),1)\n",
    "        b = np.linspace(1,coeffs2[1],self.lin_trans_pts)\n",
    "        b.shape = (len(b),1)\n",
    "        c = np.concatenate((a,b),axis = 1)\n",
    "        d = a[-1]*np.ones((self.nonlin_trans_pts,1))\n",
    "        e = b[-1]*np.ones((self.nonlin_trans_pts,1))\n",
    "        f = np.concatenate((d,e),axis = 1)\n",
    "        self.coeffs2_range = np.concatenate((c,f),axis = 0)\n",
    "        \n",
    "    # make data and nonlinear net rule, save data, weights, and rule\n",
    "    def make_pts(self):\n",
    "        # grab coeffecients \n",
    "        bias1 = self.biases[0][0]\n",
    "        bias2 = self.biases[0][1]\n",
    "\n",
    "        coeffs1 = np.asarray([self.coeffs[0][0][0],self.coeffs[0][1][0]])\n",
    "        coeffs2 = np.asarray([self.coeffs[0][0][1],self.coeffs[0][1][1]])\n",
    "\n",
    "        outer_weights = np.asarray([self.coeffs[1][0],self.coeffs[1][1]])\n",
    "        outer_weights.shape = (len(outer_weights),1)\n",
    "        outer_bias = self.biases[1]\n",
    "\n",
    "        ## plot separator(s), and fuse individual subproblem separators into one joint rule\n",
    "        r = np.linspace(-5.1,5.1,400)\n",
    "        s,t = np.meshgrid(r,r)\n",
    "        s = np.reshape(s,(np.size(s),1))\n",
    "        t = np.reshape(t,(np.size(t),1))\n",
    "        h = np.concatenate((s,t),axis = 1)\n",
    "        \n",
    "        ## transform space - each axes - via net transform    \n",
    "        # transform using basis element 1        \n",
    "        f = bias1 + np.dot(h,coeffs1)\n",
    "        f1 = np.tanh(f)\n",
    "        f1.shape = (len(f1),1)\n",
    "\n",
    "        # transform using basis element 2\n",
    "        f = bias2 + np.dot(h,coeffs2)\n",
    "        f2 = np.tanh(f)\n",
    "        f2.shape = (len(f2),1)\n",
    "\n",
    "        # cut the space to make this rule\n",
    "        f = np.concatenate((f1,f2),axis = 1)\n",
    "        z = outer_bias + np.dot(f,outer_weights)\n",
    "        z = (np.sign(z))\n",
    "\n",
    "        # show rule \n",
    "        s.shape = (np.size(r),np.size(r))\n",
    "        t.shape = (np.size(r),np.size(r))\n",
    "        z.shape = (np.size(r),np.size(r))\n",
    "        a = plt.contour(s,t,z,colors = 'k',linewidths = 2.5)\n",
    "\n",
    "        # grab coordinates of nonlinear rule (associated with weights) and save\n",
    "        p = a.collections[0].get_paths()[0]\n",
    "        v = p.vertices\n",
    "        x = v[:,0]\n",
    "        x.shape = (len(x),1)\n",
    "        y = v[:,1]\n",
    "        y.shape = (len(y),1)\n",
    "        data = np.concatenate((x,y),axis = 1)\n",
    "        data = pd.DataFrame(data)\n",
    "        data.to_csv('files/nonlinear_rule.csv',header = False,index = None)\n",
    "\n",
    "        ### you need to just build a fucking dataset yourself\n",
    "        # make random dataset\n",
    "        num_pts = 200\n",
    "        X = -5 + 10*np.random.rand(num_pts,2)\n",
    "\n",
    "        ## make labels based on point location\n",
    "        # transform using basis element 1        \n",
    "        f = bias1 + np.dot(X,coeffs1)\n",
    "        f1 = np.tanh(f)\n",
    "        f1.shape = (len(f1),1)\n",
    "\n",
    "        # transform using basis element 2\n",
    "        f = bias2 + np.dot(X,coeffs2)\n",
    "        f2 = np.tanh(f)\n",
    "        f2.shape = (len(f2),1)\n",
    "\n",
    "        f = np.concatenate((f1,f2),axis = 1)\n",
    "        z = outer_bias + np.dot(f,outer_weights)\n",
    "\n",
    "        ind0 = np.argwhere(z <= 0)\n",
    "        ind0 = [s[0] for s in ind0]\n",
    "        ind1 = np.argwhere(z > 0)\n",
    "        ind1 = [s[0] for s in ind1]\n",
    "\n",
    "        y = np.zeros((num_pts,1))\n",
    "        y[ind0] = -1\n",
    "        y[ind1] = 1\n",
    "\n",
    "        # plot data\n",
    "        red = [0.25,1,0.5]    # custom color for plotting purposes\n",
    "        green = [1,0.3,0.3]   # custom color for plotting purposes\n",
    "        plt.scatter(X[ind0,0],X[ind0,1],s = 50, color = green, edgecolor = 'k')\n",
    "        plt.scatter(X[ind1,0],X[ind1,1],s = 50, color = red, edgecolor = 'k')\n",
    "\n",
    "        # data and labels\n",
    "        data = np.concatenate([X,y],axis = 1)\n",
    "        data = pd.DataFrame(data)\n",
    "        data.to_csv('files/test_data.csv',header = False,index = None)\n",
    "       \n",
    "    # make the adjustable grid\n",
    "    def make_warpable_grid():\n",
    "        s = np.linspace(-10,10,40)\n",
    "        s.shape = (len(s),1)\n",
    "        g = np.array([-10,-10])\n",
    "        g.shape = (1,len(g))\n",
    "        e = np.linspace(-10,10,200)\n",
    "        e.shape = (len(e),1)\n",
    "        f = np.ones((200,1))\n",
    "        f.shape = (len(f),1)\n",
    "        for a in s:\n",
    "            t = a*f\n",
    "            h = np.concatenate((e,t),axis = 1)\n",
    "            i = np.concatenate((t,e),axis = 1)\n",
    "            j = np.concatenate((h,i),axis = 0)\n",
    "            g = np.concatenate((g,j),axis = 0)\n",
    "\n",
    "        g = g[1:,:]\n",
    "        g = pd.DataFrame(g)\n",
    "        g.to_csv('files/adjustable_grid.csv',header = False,index = None) \n",
    "    \n",
    "    # illustrate tanh approx from linear using slider\n",
    "    def show_tanh_approx(self):\n",
    "        s = np.linspace(-10,10,1000)\n",
    "        def show_fit(alpha):\n",
    "            func = (1-alpha/float(200))*s + alpha/float(200)*np.tanh(s)\n",
    "            plt.plot(s,func)\n",
    "            plt.ylim([-5,5])\n",
    "\n",
    "        interact(show_fit, alpha=widgets.IntSlider(min=0,max=200),step=1,value=0)\n",
    "        \n",
    "    ###### plotting functions ######\n",
    "    # plot all points and clean up plot\n",
    "    def plot_pts(self,X,rule):\n",
    "        # plot our points\n",
    "        red = [0.25,1,0.5]    # custom color for plotting purposes\n",
    "        green = [1,0.3,0.3]   # custom color for plotting purposes\n",
    "        plt.scatter(X[np.argwhere(self.y == -1).flatten(),0],X[np.argwhere(self.y==-1).flatten(),1],s = 50, color = green, edgecolor = 'k',zorder = 2)\n",
    "        plt.scatter(X[np.argwhere(self.y==1).flatten(),0],X[np.argwhere(self.y==1).flatten(),1],s = 50, color = red, edgecolor = 'k',zorder = 2)\n",
    "        plt.plot(rule[:,0],rule[:,1],color = 'k',linewidth = 3,zorder = 3)\n",
    "        \n",
    "        # dress panel correctly with axis labels etc.\n",
    "        plt.yticks([],[])\n",
    "        plt.axis('off')  \n",
    "        xlen = max(X[:,0]) - min(X[:,0])\n",
    "        ylen = max(X[:,1]) - min(X[:,1])\n",
    "        plt.xlim([min(X[:,0]) - xlen/float(5),max(X[:,0]) + xlen/float(5)])\n",
    "        plt.ylim([min(X[:,1]) - ylen/float(5),max(X[:,1]) + ylen/float(5)])\n",
    "        plt.grid(False)\n",
    "\n",
    "    # plot perfectly transformed data\n",
    "    def plot_final_transform(self):\n",
    "        bias1 = self.b1_range[-1]\n",
    "        bias2 = self.b2_range[-1]\n",
    "\n",
    "        coeffs1 = self.coeffs1_range[-1]\n",
    "        coeffs2 = self.coeffs2_range[-1]\n",
    "        \n",
    "        # transform using basis element 1\n",
    "        f = bias1 + np.dot(self.X,coeffs1)\n",
    "        f1 = np.tanh(f)\n",
    "        f1.shape = (len(f1),1)\n",
    "\n",
    "        # transform using basis element 2\n",
    "        f = bias2 + np.dot(self.X,coeffs2)\n",
    "        f2 = np.tanh(f)\n",
    "        f2.shape = (len(f2),1)\n",
    "\n",
    "        X_tr = np.concatenate((f1,f2),axis = 1)\n",
    "        \n",
    "        # transform using basis element 1        \n",
    "        f = bias1 + np.dot(self.rule,coeffs1)\n",
    "        f1 = np.tanh(f)\n",
    "        f1.shape = (len(f1),1)\n",
    "\n",
    "        # transform using basis element 2\n",
    "        f = bias2 + np.dot(self.rule,coeffs2)\n",
    "        f2 = np.tanh(f)\n",
    "        f2.shape = (len(f2),1)\n",
    "\n",
    "        rule_tr = np.concatenate((f1,f2),axis = 1)\n",
    "        \n",
    "        # plot results\n",
    "        self.plot_pts(X_tr,rule_tr)\n",
    "        \n",
    "    # plot prediction\n",
    "    def plot_prediction(self):\n",
    "        # plot classification boundary and color regions appropriately\n",
    "        red = [0.25,1,0.5]    # custom color for plotting purposes\n",
    "        green = [1,0.3,0.3]   # custom color for plotting purposes\n",
    "        r = np.linspace(-0.1,1.1,300)\n",
    "        s,t = np.meshgrid(r,r)\n",
    "        s = np.reshape(s,(np.size(s),1))\n",
    "        t = np.reshape(t,(np.size(t),1))\n",
    "        h = np.concatenate((s,t),1)\n",
    "\n",
    "        # use classifier to make predictions\n",
    "        z = self.clf.predict(h)\n",
    "\n",
    "        # reshape predictions for plotting\n",
    "        s.shape = (np.size(r),np.size(r))\n",
    "        t.shape = (np.size(r),np.size(r))\n",
    "        z.shape = (np.size(r),np.size(r))\n",
    "\n",
    "        # show the filled in predicted-regions of the plane \n",
    "        plt.contourf(s,t,z,colors = [green,red],alpha = 0.2,levels = range(-1,2))\n",
    "\n",
    "        # show the classification boundary if it exists\n",
    "        if len(np.unique(z)) > 1:\n",
    "            plt.contour(s,t,z,colors = 'k',linewidths = 2)\n",
    "       \n",
    "    ###### main functions ######\n",
    "    # transform data by shoving it through network\n",
    "    def transform_data(self,X,p):\n",
    "        # setup parameters\n",
    "        bias1 = self.b1_range[p]\n",
    "        bias2 = self.b2_range[p]\n",
    "\n",
    "        coeffs1 = self.coeffs1_range[p]\n",
    "        coeffs2 = self.coeffs2_range[p]\n",
    "        \n",
    "        alpha = self.alphas[p]\n",
    "        \n",
    "        # transform using basis element 1\n",
    "        s = (bias1 + np.dot(X,coeffs1))\n",
    "        if p > self.lin_trans_pts:\n",
    "            s = self.my_tanh(s,alpha)        \n",
    "        s.shape = (len(s),1)\n",
    "        \n",
    "        # transform using basis element 2\n",
    "        t = (bias2 + np.dot(X,coeffs2))\n",
    "        if p > self.lin_trans_pts:\n",
    "            t = self.my_tanh(t,alpha)\n",
    "        t.shape = (len(t),1)\n",
    "\n",
    "        X_tr = np.concatenate((s,t),axis = 1)\n",
    "        \n",
    "        return X_tr        \n",
    "    \n",
    "    # use convex combo of y = x and y = tanh(x) to transition from linear --> nonlinear part of net operation\n",
    "    def my_tanh(self,data,alpha):            \n",
    "        approx = (1 - alpha)*data + alpha*np.tanh(data)\n",
    "        return approx\n",
    "    \n",
    "    # show the net transformation using slider\n",
    "    def show_transform(self):    \n",
    "        def show_fit(p):\n",
    "            X_tr = self.transform_data(self.X,p)\n",
    "            rule_tr = self.transform_data(self.rule,p)\n",
    "            grid_tr = self.transform_data(self.adj_grid,p)\n",
    "\n",
    "            # plot points and rule\n",
    "            self.plot_pts(X_tr,rule_tr)\n",
    "                   \n",
    "            # plot adjustble grid\n",
    "            for i in range(80):\n",
    "                plt.plot(grid_tr[200*i:(i+1)*200,0],grid_tr[200*i:(i+1)*200,1],color = [0.75,0.75,0.75],linewidth = 1,zorder = 1)   \n",
    "\n",
    "        interact(show_fit, p=widgets.IntSlider(min=0,max=self.lin_trans_pts + self.nonlin_trans_pts-1,step=1,value=0))"
   ]
  },
  {
   "cell_type": "code",
   "execution_count": 98,
   "metadata": {
    "collapsed": false
   },
   "outputs": [
    {
     "data": {
      "image/png": "[encoded data removed]",
      "text/plain": [
       "<matplotlib.figure.Figure at 0x7fbba4eb13d0>"
      ]
     },
     "metadata": {},
     "output_type": "display_data"
    }
   ],
   "source": [
    "test = show_net_transform()\n",
    "test.plot_pts(test.X,test.rule)"
   ]
  },
  {
   "cell_type": "code",
   "execution_count": 99,
   "metadata": {
    "collapsed": false
   },
   "outputs": [
    {
     "data": {
      "image/png": "[encoded data removed]",
      "text/plain": [
       "<matplotlib.figure.Figure at 0x7fbba4e9e590>"
      ]
     },
     "metadata": {},
     "output_type": "display_data"
    }
   ],
   "source": [
    "test.show_transform()"
   ]
  }
 ],
 "metadata": {
  "anaconda-cloud": {},
  "kernelspec": {
   "display_name": "Python 2",
   "language": "python",
   "name": "python2"
  },
  "language_info": {
   "codemirror_mode": {
    "name": "ipython",
    "version": 2
   },
   "file_extension": ".py",
   "mimetype": "text/x-python",
   "name": "python",
   "nbconvert_exporter": "python",
   "pygments_lexer": "ipython2",
   "version": "2.7.12"
  },
  "widgets": {
   "state": {
    "1d1c45d81dcd4f29be2a61fab67bc67c": {
     "views": [
      {
       "cell_index": 10
      }
     ]
    },
    "1d8b9e0de72447fe8322390c8719911d": {
     "views": [
      {
       "cell_index": 10
      }
     ]
    },
    "35a296c202064cd7ae623d19bc67ecbf": {
     "views": [
      {
       "cell_index": 10
      }
     ]
    },
    "4fc13be2942a4365a5b4eab13085dcca": {
     "views": [
      {
       "cell_index": 10
      }
     ]
    },
    "5b09f5cdc7994d7189958f04387a70d2": {
     "views": [
      {
       "cell_index": 10
      }
     ]
    },
    "70fe50f211fb43ab9bd83a6001cedfbe": {
     "views": [
      {
       "cell_index": 10
      }
     ]
    },
    "73dd6dff583744dcb1fb1faf0658fc2a": {
     "views": [
      {
       "cell_index": 10
      }
     ]
    },
    "860a115574294fe48df21702e22edee8": {
     "views": [
      {
       "cell_index": 10
      }
     ]
    },
    "8bc7ef2d415f402a87656c612f67fe2c": {
     "views": [
      {
       "cell_index": 10
      }
     ]
    },
    "911b8e56cefd4648b51c599ed747a550": {
     "views": [
      {
       "cell_index": 10
      }
     ]
    },
    "a0f2088cd855458caf7577966e7f3b82": {
     "views": [
      {
       "cell_index": 10
      }
     ]
    },
    "a5048c9e69504a59b74ab8d8ef58e4ff": {
     "views": [
      {
       "cell_index": 10
      }
     ]
    },
    "acf14bfc3f4a4423a1f7ccbac3540d41": {
     "views": [
      {
       "cell_index": 10
      }
     ]
    },
    "c000790b2f4c4419b3e525352e62b574": {
     "views": [
      {
       "cell_index": 10
      }
     ]
    },
    "c2f61e078856430696817bbce40810f0": {
     "views": [
      {
       "cell_index": 10
      }
     ]
    },
    "c45a746732c945c384b1cfc93d5a50c4": {
     "views": [
      {
       "cell_index": 4
      }
     ]
    },
    "c699efc1b9ac4ed881c621b03ecd2759": {
     "views": [
      {
       "cell_index": 10
      }
     ]
    },
    "d0b89523932a48b093e6e9cabdcfe76a": {
     "views": [
      {
       "cell_index": 10
      }
     ]
    },
    "d0c357883c684aa19d1fcf9ba242501c": {
     "views": [
      {
       "cell_index": 10
      }
     ]
    },
    "ead790aa9392422ca5518fa773816ec3": {
     "views": [
      {
       "cell_index": 10
      }
     ]
    },
    "eb19dd27b19343f18c08121ca69b31b1": {
     "views": [
      {
       "cell_index": 10
      }
     ]
    },
    "fd4ae96343d3472091f10e294069d7dd": {
     "views": [
      {
       "cell_index": 10
      }
     ]
    }
   },
   "version": "1.2.0"
  }
 },
 "nbformat": 4,
 "nbformat_minor": 0
}
